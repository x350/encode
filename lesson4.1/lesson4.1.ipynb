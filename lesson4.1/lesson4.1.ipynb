{
 "cells": [
  {
   "cell_type": "code",
   "execution_count": 4,
   "metadata": {
    "collapsed": true
   },
   "outputs": [],
   "source": [
    "import pandas as pd\n",
    "import os"
   ]
  },
  {
   "cell_type": "code",
   "execution_count": 5,
   "metadata": {},
   "outputs": [
    {
     "data": {
      "text/plain": [
       "['Michael', 'Jennifer', 'John']"
      ]
     },
     "execution_count": 5,
     "metadata": {},
     "output_type": "execute_result"
    }
   ],
   "source": [
    "def count_top3(years):\n",
    "    DATA_PATH = os.path.join(os.getcwd(),'names')\n",
    "    names = ['Name', 'Gender', 'Count']\n",
    "    names_all = pd.concat([\n",
    "        pd.read_csv(os.path.join(DATA_PATH, 'yob' + str(item) + '.txt'), names=names) for item in years        \n",
    "    ])\n",
    "    data = names_all.groupby('Name').sum().nlargest(3, 'Count').reset_index()\n",
    "    return list(data['Name'])\n",
    "\n",
    "count_top3([1980, 1900, 1910])"
   ]
  },
  {
   "cell_type": "code",
   "execution_count": 6,
   "metadata": {},
   "outputs": [
    {
     "data": {
      "text/plain": [
       "{'F': [299800, 1713151, 1815110], 'M': [150483, 1790549, 1962969]}"
      ]
     },
     "execution_count": 6,
     "metadata": {},
     "output_type": "execute_result"
    }
   ],
   "source": [
    "def count_dynamics(years):\n",
    "    DATA_PATH = os.path.join(os.getcwd(),'names')\n",
    "    names = ['Name', 'Gender', 'Count']\n",
    "    names_all = pd.concat({\n",
    "        str(item): (pd.read_csv(os.path.join(DATA_PATH, 'yob' + str(item) + '.txt'), names=names)) for item in years        \n",
    "    }, names=['Year'])\n",
    "    data = names_all.groupby(['Year','Gender']).sum().reset_index()\n",
    "    return {\n",
    "            'F': list(data[data['Gender'] == 'F']['Count']),\n",
    "            'M': list(data[data['Gender'] == 'M']['Count'])\n",
    "           }    \n",
    "  \n",
    "count_dynamics([1900, 1950, 2000])"
   ]
  },
  {
   "cell_type": "code",
   "execution_count": null,
   "metadata": {
    "collapsed": true
   },
   "outputs": [],
   "source": []
  }
 ],
 "metadata": {
  "kernelspec": {
   "display_name": "Python 3",
   "language": "python",
   "name": "python3"
  },
  "language_info": {
   "codemirror_mode": {
    "name": "ipython",
    "version": 3
   },
   "file_extension": ".py",
   "mimetype": "text/x-python",
   "name": "python",
   "nbconvert_exporter": "python",
   "pygments_lexer": "ipython3",
   "version": "3.6.3"
  }
 },
 "nbformat": 4,
 "nbformat_minor": 2
}
